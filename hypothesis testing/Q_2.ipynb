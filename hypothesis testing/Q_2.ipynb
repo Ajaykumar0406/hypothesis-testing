{
  "nbformat": 4,
  "nbformat_minor": 0,
  "metadata": {
    "colab": {
      "provenance": []
    },
    "kernelspec": {
      "name": "python3",
      "display_name": "Python 3"
    },
    "language_info": {
      "name": "python"
    }
  },
  "cells": [
    {
      "cell_type": "code",
      "execution_count": null,
      "metadata": {
        "id": "vI5rxeXBX5FH"
      },
      "outputs": [],
      "source": [
        "# A hospital wants to determine whether there is any difference in the average Turn Around Time (TAT) of reports of the laboratories on their preferred list.\n",
        "# They collected a random sample and recorded TAT for reports of 4 laboratories.\n",
        "# TAT is defined as sample collected to report dispatch.\n",
        "# Analyze the data and determine whether there is any difference in average TAT among the different laboratories at 5% significance level."
      ]
    },
    {
      "cell_type": "code",
      "source": [
        "import pandas as pd\n",
        "import scipy.stats as stats\n"
      ],
      "metadata": {
        "id": "tUcoI6eoX5ku"
      },
      "execution_count": 1,
      "outputs": []
    },
    {
      "cell_type": "code",
      "source": [
        "\n",
        "# Assuming the data is stored in a DataFrame named df\n",
        "df=pd.read_csv(\"/content/LabTAT.csv\")\n",
        "lab1 = df['Laboratory 1']\n",
        "lab2 = df['Laboratory 2']\n",
        "lab3 = df['Laboratory 3']\n",
        "lab4 = df['Laboratory 4']\n",
        "\n",
        "\n"
      ],
      "metadata": {
        "id": "MJj2o8zCX5nE"
      },
      "execution_count": null,
      "outputs": []
    },
    {
      "cell_type": "code",
      "source": [
        "# Perform the ANOVA test\n",
        "fvalue, pvalue = stats.f_oneway(lab1, lab2, lab3, lab4)\n"
      ],
      "metadata": {
        "id": "QXDMpXtjX5pD"
      },
      "execution_count": null,
      "outputs": []
    },
    {
      "cell_type": "code",
      "source": [
        "# Print the results\n",
        "print(f'F-value: {fvalue}')\n",
        "print(f'P-value: {pvalue}')\n",
        "\n",
        "if pvalue < 0.05:\n",
        "    print('There is a significant difference between the groups.')\n",
        "else:\n",
        "    print('There is no significant difference between the groups.')\n"
      ],
      "metadata": {
        "colab": {
          "base_uri": "https://localhost:8080/"
        },
        "id": "77H8DXKHX5rp",
        "outputId": "5526a9cc-86c0-4413-ab2e-e9735d15e6b7"
      },
      "execution_count": null,
      "outputs": [
        {
          "output_type": "stream",
          "name": "stdout",
          "text": [
            "F-value: 118.70421654401437\n",
            "P-value: 2.1156708949992414e-57\n",
            "There is a significant difference between the groups.\n"
          ]
        }
      ]
    },
    {
      "cell_type": "code",
      "source": [],
      "metadata": {
        "id": "Ow2ObeSjX5ug"
      },
      "execution_count": null,
      "outputs": []
    },
    {
      "cell_type": "code",
      "source": [],
      "metadata": {
        "id": "Vym5sNWzX5ww"
      },
      "execution_count": null,
      "outputs": []
    },
    {
      "cell_type": "code",
      "source": [],
      "metadata": {
        "id": "pMIV1dr0X5zE"
      },
      "execution_count": null,
      "outputs": []
    },
    {
      "cell_type": "code",
      "source": [],
      "metadata": {
        "id": "XW0qQ3LvX50x"
      },
      "execution_count": null,
      "outputs": []
    },
    {
      "cell_type": "code",
      "source": [],
      "metadata": {
        "id": "Js-0YT2tX53O"
      },
      "execution_count": null,
      "outputs": []
    },
    {
      "cell_type": "code",
      "source": [],
      "metadata": {
        "id": "WASTvPvMX56b"
      },
      "execution_count": null,
      "outputs": []
    },
    {
      "cell_type": "code",
      "source": [],
      "metadata": {
        "id": "tAlTOd_CX587"
      },
      "execution_count": null,
      "outputs": []
    },
    {
      "cell_type": "code",
      "source": [],
      "metadata": {
        "id": "uztYnnLWX6A3"
      },
      "execution_count": null,
      "outputs": []
    },
    {
      "cell_type": "code",
      "source": [],
      "metadata": {
        "id": "lGc3N71OX6DO"
      },
      "execution_count": null,
      "outputs": []
    },
    {
      "cell_type": "code",
      "source": [],
      "metadata": {
        "id": "LIeJMtuBX6F2"
      },
      "execution_count": null,
      "outputs": []
    },
    {
      "cell_type": "code",
      "source": [],
      "metadata": {
        "id": "edgScQlwX6JV"
      },
      "execution_count": null,
      "outputs": []
    },
    {
      "cell_type": "code",
      "source": [],
      "metadata": {
        "id": "ZxqeIsUzX6SS"
      },
      "execution_count": null,
      "outputs": []
    },
    {
      "cell_type": "code",
      "source": [],
      "metadata": {
        "id": "Jhw_qBG-X6Vq"
      },
      "execution_count": null,
      "outputs": []
    }
  ]
}