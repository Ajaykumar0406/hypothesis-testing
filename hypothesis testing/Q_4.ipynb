{
  "nbformat": 4,
  "nbformat_minor": 0,
  "metadata": {
    "colab": {
      "provenance": []
    },
    "kernelspec": {
      "name": "python3",
      "display_name": "Python 3"
    },
    "language_info": {
      "name": "python"
    }
  },
  "cells": [
    {
      "cell_type": "code",
      "execution_count": 1,
      "metadata": {
        "id": "ydvGPQgjpDKN"
      },
      "outputs": [],
      "source": [
        "# TeleCall uses 4 centers around the globe to process customer order forms.\n",
        "# They audit a certain %  of the customer order forms.\n",
        "# Any error in order form renders it defective and has to be reworked before processing.\n",
        "# The manager wants to check whether the defective %  varies by centre.\n",
        "# Please analyze the data at 5% significance level and help the manager draw appropriate inferences"
      ]
    },
    {
      "cell_type": "code",
      "source": [
        "import pandas as pd\n",
        "import scipy.stats as stats"
      ],
      "metadata": {
        "id": "95zMLtyjpDxY"
      },
      "execution_count": 2,
      "outputs": []
    },
    {
      "cell_type": "code",
      "source": [
        "# Data\n",
        "data = {'Phillippines': ['Error Free' if i < 8 else 'Defective' for i in range(50)],\n",
        "    'Indonesia': ['Error Free' if i < 9 else 'Defective' for i in range(50)],\n",
        "    'Malta': ['Error Free' if i < 31 else 'Defective' for i in range(50)],\n",
        "    'India': ['Error Free' if i < 20 else 'Defective' for i in range(50)]}"
      ],
      "metadata": {
        "id": "2t8ED-adpD0F"
      },
      "execution_count": 3,
      "outputs": []
    },
    {
      "cell_type": "code",
      "source": [
        "# Create DataFrame\n",
        "df = pd.DataFrame(data)"
      ],
      "metadata": {
        "id": "0GtHvwl3pD20"
      },
      "execution_count": 4,
      "outputs": []
    },
    {
      "cell_type": "code",
      "source": [
        "# Create contingency table\n",
        "contingency_table = pd.crosstab(df['Phillippines'], [df['Indonesia'], df['Malta'], df['India']])\n"
      ],
      "metadata": {
        "id": "QYgeayz_pD5V"
      },
      "execution_count": 5,
      "outputs": []
    },
    {
      "cell_type": "code",
      "source": [
        "# Perform Chi-Square test\n",
        "chi2, p, dof, expected = stats.chi2_contingency(contingency_table)\n",
        "\n",
        "print(f\"Chi-square statistic: {chi2}\")\n",
        "print(f\"P-value: {p}\")\n",
        "print(f\"Degrees of freedom: {dof}\")\n"
      ],
      "metadata": {
        "colab": {
          "base_uri": "https://localhost:8080/"
        },
        "id": "97mhscNdpD8E",
        "outputId": "88501557-8b9f-4f2a-84f5-f659c0305d78"
      },
      "execution_count": 6,
      "outputs": [
        {
          "output_type": "stream",
          "name": "stdout",
          "text": [
            "Chi-square statistic: 43.38624338624339\n",
            "P-value: 2.037501084178642e-09\n",
            "Degrees of freedom: 3\n"
          ]
        }
      ]
    },
    {
      "cell_type": "code",
      "source": [],
      "metadata": {
        "id": "uU3vJRgupD_V"
      },
      "execution_count": null,
      "outputs": []
    },
    {
      "cell_type": "code",
      "source": [],
      "metadata": {
        "id": "ta2ZqJqUpEHl"
      },
      "execution_count": null,
      "outputs": []
    },
    {
      "cell_type": "code",
      "source": [],
      "metadata": {
        "id": "8jaFn8WrpEJ5"
      },
      "execution_count": null,
      "outputs": []
    },
    {
      "cell_type": "code",
      "source": [],
      "metadata": {
        "id": "oE9UXMmRpENY"
      },
      "execution_count": null,
      "outputs": []
    }
  ]
}