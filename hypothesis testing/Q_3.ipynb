{
  "nbformat": 4,
  "nbformat_minor": 0,
  "metadata": {
    "colab": {
      "provenance": []
    },
    "kernelspec": {
      "name": "python3",
      "display_name": "Python 3"
    },
    "language_info": {
      "name": "python"
    }
  },
  "cells": [
    {
      "cell_type": "code",
      "execution_count": null,
      "metadata": {
        "id": "5b0VCIGZlYiV"
      },
      "outputs": [],
      "source": [
        "# write a code for Sales of products in four different regions is tabulated for males and females.\n",
        "# Find if male-female buyer rations are similar across regions.H0  All proportions are equal Check p-value\n",
        "# Ha Not all Proportions are equal\n",
        "# If p-Value < alpha, we reject Null Hypothesis"
      ]
    },
    {
      "cell_type": "code",
      "source": [
        "import pandas as pd\n",
        "from scipy.stats import chi2_contingency"
      ],
      "metadata": {
        "id": "6JDCX7N-lZEq"
      },
      "execution_count": 1,
      "outputs": []
    },
    {
      "cell_type": "code",
      "source": [
        "# Create a data frame\n",
        "data = {'East': [50, 435], 'West': [142, 1523], 'North': [131, 1356], 'South': [70, 750]}\n",
        "df = pd.DataFrame(data, index=['Males', 'Females'])"
      ],
      "metadata": {
        "id": "dnwaELSOoO_k"
      },
      "execution_count": 2,
      "outputs": []
    },
    {
      "cell_type": "code",
      "source": [
        "# Perform the Chi-Square test\n",
        "chi2, p, dof, expected = chi2_contingency(df)\n",
        "\n",
        "# Print the results\n",
        "print(f'Chi-square statistic: {chi2}')\n",
        "print(f'p-value: {p}')\n",
        "\n",
        "if p < 0.05:\n",
        "    print('We reject the null hypothesis that male-female buyer ratios are similar across regions.')\n",
        "else:\n",
        "    print('We do not reject the null hypothesis that male-female buyer ratios are similar across regions.')"
      ],
      "metadata": {
        "colab": {
          "base_uri": "https://localhost:8080/"
        },
        "id": "LHFxypxVoOzm",
        "outputId": "74333909-4ad2-430f-9e51-05680998f6b8"
      },
      "execution_count": 3,
      "outputs": [
        {
          "output_type": "stream",
          "name": "stdout",
          "text": [
            "Chi-square statistic: 1.595945538661058\n",
            "p-value: 0.6603094907091882\n",
            "We do not reject the null hypothesis that male-female buyer ratios are similar across regions.\n"
          ]
        }
      ]
    },
    {
      "cell_type": "code",
      "source": [],
      "metadata": {
        "id": "jIhvGy7GoOlK"
      },
      "execution_count": null,
      "outputs": []
    },
    {
      "cell_type": "code",
      "source": [],
      "metadata": {
        "id": "1TFYGxIClZTf"
      },
      "execution_count": null,
      "outputs": []
    },
    {
      "cell_type": "code",
      "source": [],
      "metadata": {
        "id": "P9G9r45clZWM"
      },
      "execution_count": null,
      "outputs": []
    },
    {
      "cell_type": "code",
      "source": [],
      "metadata": {
        "id": "vqTDufOvlZbc"
      },
      "execution_count": null,
      "outputs": []
    },
    {
      "cell_type": "code",
      "source": [],
      "metadata": {
        "id": "mSC7nRzZlZeb"
      },
      "execution_count": null,
      "outputs": []
    },
    {
      "cell_type": "code",
      "source": [],
      "metadata": {
        "id": "pOLIZ3mqlZhl"
      },
      "execution_count": null,
      "outputs": []
    },
    {
      "cell_type": "code",
      "source": [],
      "metadata": {
        "id": "vUa7lrBZlZke"
      },
      "execution_count": null,
      "outputs": []
    },
    {
      "cell_type": "code",
      "source": [],
      "metadata": {
        "id": "VaIC6i0YlZnJ"
      },
      "execution_count": null,
      "outputs": []
    }
  ]
}